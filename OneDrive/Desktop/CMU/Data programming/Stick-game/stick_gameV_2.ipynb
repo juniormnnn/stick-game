{
  "nbformat": 4,
  "nbformat_minor": 0,
  "metadata": {
    "colab": {
      "provenance": []
    },
    "kernelspec": {
      "name": "python3",
      "display_name": "Python 3"
    },
    "language_info": {
      "name": "python"
    }
  },
  "cells": [
    {
      "cell_type": "code",
      "source": [
        "from random import randint\n",
        "\n",
        "name = input(\"What is your name: \")\n",
        "print(\"Hi \"+name+\" Welcome to Who take the last stick lose! Game!\")\n",
        "print(name + \" You will play as second Player\")\n",
        "print(\"I will play first\")\n",
        "# Set up variable to store name and making welcome message to player\n",
        "\n",
        "stick_in_pile = randint(4,50)\n",
        "player_pick = 0\n",
        "python_pick = 0\n",
        "# Set up variable to store number of player and python when pick stick to take out, also make variable for storing number of stick in pile by random 4 to 50\n",
        "\n",
        "while stick_in_pile != 0 :\n",
        "# Making loop if the stick in pile doesn't equal to 0 a game keep running\n",
        "\n",
        "    if stick_in_pile <= 1:\n",
        "        print(\"You win\")\n",
        "        break\n",
        "# Set condition if there is 1 stick left in pile and next turn is python's turn system will show play win and break out from loop\n",
        "\n",
        "\n",
        "    elif stick_in_pile % 3 == 2:\n",
        "        python_pick = 1\n",
        "        print(\"Python pick: \",python_pick,\"There are\",stick_in_pile-python_pick,\"sticks in the pile\")\n",
        "        stick_in_pile -= python_pick\n",
        "# Set condition if the number of stick in pile mod by 3 and has 2 left. python will take out 1\n",
        "\n",
        "    elif stick_in_pile % 2 == 0:\n",
        "        python_pick = 1\n",
        "        print(\"Python pick: \",python_pick,\"There are\",stick_in_pile-python_pick,\"sticks in the pile\")\n",
        "        stick_in_pile -= python_pick\n",
        "# Set condition if the number of stick in pile mod by 2 and equal to 0. python will take out 1\n",
        "\n",
        "    else :\n",
        "        python_pick = 2\n",
        "        print(\"Python pick: \",python_pick,\"There are\",stick_in_pile-python_pick,\"sticks in the pile\")\n",
        "        stick_in_pile -= python_pick\n",
        "\n",
        "# Others from above condition will take out two stick of pile\n",
        "\n",
        "    while True :\n",
        "\n",
        "      player_pick = int(input(name +\", how many sticks you will take (1 or 2): \"))\n",
        "     # asking player to choose a number between 1 or 2\n",
        "      if player_pick <= 0 :\n",
        "        print(\"No, you cannot take less than 1 stick!\")\n",
        "    # making condition to check if the input number is not lower or equal to 0. a function will ask player a again if input number meet this condition\n",
        "\n",
        "      elif player_pick > 2 :\n",
        "        print(\"No, you cannot take more than 2 sticks\")\n",
        "    # making conditon to check if the input number is not higher than 2. a function will ask player again if input number meet this condition\n",
        "\n",
        "      elif stick_in_pile - player_pick < 0 :\n",
        "        print(\"There are no enough sticks to take\")\n",
        "    # Making condition to check if input number of stick is higher than stick which is lefted over in plie. the function will ask player to input numner again\n",
        "\n",
        "      elif stick_in_pile - player_pick == 0 :\n",
        "        print(\"You lose. I WON (PYTHON WON!!!!!!!!!!)\")\n",
        "        stick_in_pile -= player_pick\n",
        "        break\n",
        "     # Set condition if there is 1 stick left in pile and next turn is player's turn system will show python win and break out from loop\n",
        "\n",
        "      else:\n",
        "        print(\"There are\",stick_in_pile-player_pick,\"sticks in the pile\")\n",
        "        stick_in_pile -= player_pick\n",
        "        break\n",
        "    # making a conditon if the input number meet a requirement (only 1 or 2). A stick in pile will be detucted by the player's input number.\n",
        "\n",
        "print(\"Game Over\")\n",
        "\n",
        "#1. How the computer (Python) should think? (Explain AI strategy)\n",
        "# Ans. They will see the number of stick in pile first, then apply strategy. The strategy is python will try to make a player have 4 stick before last round. So, python will completly win either player pick one or two.\n",
        "\n",
        "#2. Is it true that: If the computer (Python) does the first move, she will always win.\n",
        "# Ans. No, she is not. The game will depend on the number in pile and the play's skill. if player know the strategy, and the first number in pile is not go with plan. Player has the possibility to win, but low.\n",
        "\n",
        "#3. What if the number of sticks change to any number, will AI the strategy change?\n",
        "# Ans. It is not change much. AI will try to make a player to fall in AI's trick if player make a little mistake.\n",
        ""
      ],
      "metadata": {
        "colab": {
          "base_uri": "https://localhost:8080/",
          "height": 356
        },
        "id": "3s7XhB8xZ-Y-",
        "outputId": "d2650641-0f70-45cc-a2a8-954f25af76fd"
      },
      "execution_count": 41,
      "outputs": [
        {
          "output_type": "error",
          "ename": "KeyboardInterrupt",
          "evalue": "Interrupted by user",
          "traceback": [
            "\u001b[0;31m---------------------------------------------------------------------------\u001b[0m",
            "\u001b[0;31mKeyboardInterrupt\u001b[0m                         Traceback (most recent call last)",
            "\u001b[0;32m/tmp/ipython-input-41-4256004026.py\u001b[0m in \u001b[0;36m<cell line: 0>\u001b[0;34m()\u001b[0m\n\u001b[1;32m      1\u001b[0m \u001b[0;32mfrom\u001b[0m \u001b[0mrandom\u001b[0m \u001b[0;32mimport\u001b[0m \u001b[0mrandint\u001b[0m\u001b[0;34m\u001b[0m\u001b[0;34m\u001b[0m\u001b[0m\n\u001b[1;32m      2\u001b[0m \u001b[0;34m\u001b[0m\u001b[0m\n\u001b[0;32m----> 3\u001b[0;31m \u001b[0mname\u001b[0m \u001b[0;34m=\u001b[0m \u001b[0minput\u001b[0m\u001b[0;34m(\u001b[0m\u001b[0;34m\"What is your name: \"\u001b[0m\u001b[0;34m)\u001b[0m\u001b[0;34m\u001b[0m\u001b[0;34m\u001b[0m\u001b[0m\n\u001b[0m\u001b[1;32m      4\u001b[0m \u001b[0mprint\u001b[0m\u001b[0;34m(\u001b[0m\u001b[0;34m\"Hi \"\u001b[0m\u001b[0;34m+\u001b[0m\u001b[0mname\u001b[0m\u001b[0;34m+\u001b[0m\u001b[0;34m\" Welcome to Who take the last stick lose! Game!\"\u001b[0m\u001b[0;34m)\u001b[0m\u001b[0;34m\u001b[0m\u001b[0;34m\u001b[0m\u001b[0m\n\u001b[1;32m      5\u001b[0m \u001b[0mprint\u001b[0m\u001b[0;34m(\u001b[0m\u001b[0mname\u001b[0m \u001b[0;34m+\u001b[0m \u001b[0;34m\" You will play as second Player\"\u001b[0m\u001b[0;34m)\u001b[0m\u001b[0;34m\u001b[0m\u001b[0;34m\u001b[0m\u001b[0m\n",
            "\u001b[0;32m/usr/local/lib/python3.11/dist-packages/ipykernel/kernelbase.py\u001b[0m in \u001b[0;36mraw_input\u001b[0;34m(self, prompt)\u001b[0m\n\u001b[1;32m   1175\u001b[0m                 \u001b[0;34m\"raw_input was called, but this frontend does not support input requests.\"\u001b[0m\u001b[0;34m\u001b[0m\u001b[0;34m\u001b[0m\u001b[0m\n\u001b[1;32m   1176\u001b[0m             )\n\u001b[0;32m-> 1177\u001b[0;31m         return self._input_request(\n\u001b[0m\u001b[1;32m   1178\u001b[0m             \u001b[0mstr\u001b[0m\u001b[0;34m(\u001b[0m\u001b[0mprompt\u001b[0m\u001b[0;34m)\u001b[0m\u001b[0;34m,\u001b[0m\u001b[0;34m\u001b[0m\u001b[0;34m\u001b[0m\u001b[0m\n\u001b[1;32m   1179\u001b[0m             \u001b[0mself\u001b[0m\u001b[0;34m.\u001b[0m\u001b[0m_parent_ident\u001b[0m\u001b[0;34m[\u001b[0m\u001b[0;34m\"shell\"\u001b[0m\u001b[0;34m]\u001b[0m\u001b[0;34m,\u001b[0m\u001b[0;34m\u001b[0m\u001b[0;34m\u001b[0m\u001b[0m\n",
            "\u001b[0;32m/usr/local/lib/python3.11/dist-packages/ipykernel/kernelbase.py\u001b[0m in \u001b[0;36m_input_request\u001b[0;34m(self, prompt, ident, parent, password)\u001b[0m\n\u001b[1;32m   1217\u001b[0m             \u001b[0;32mexcept\u001b[0m \u001b[0mKeyboardInterrupt\u001b[0m\u001b[0;34m:\u001b[0m\u001b[0;34m\u001b[0m\u001b[0;34m\u001b[0m\u001b[0m\n\u001b[1;32m   1218\u001b[0m                 \u001b[0;31m# re-raise KeyboardInterrupt, to truncate traceback\u001b[0m\u001b[0;34m\u001b[0m\u001b[0;34m\u001b[0m\u001b[0m\n\u001b[0;32m-> 1219\u001b[0;31m                 \u001b[0;32mraise\u001b[0m \u001b[0mKeyboardInterrupt\u001b[0m\u001b[0;34m(\u001b[0m\u001b[0;34m\"Interrupted by user\"\u001b[0m\u001b[0;34m)\u001b[0m \u001b[0;32mfrom\u001b[0m \u001b[0;32mNone\u001b[0m\u001b[0;34m\u001b[0m\u001b[0;34m\u001b[0m\u001b[0m\n\u001b[0m\u001b[1;32m   1220\u001b[0m             \u001b[0;32mexcept\u001b[0m \u001b[0mException\u001b[0m\u001b[0;34m:\u001b[0m\u001b[0;34m\u001b[0m\u001b[0;34m\u001b[0m\u001b[0m\n\u001b[1;32m   1221\u001b[0m                 \u001b[0mself\u001b[0m\u001b[0;34m.\u001b[0m\u001b[0mlog\u001b[0m\u001b[0;34m.\u001b[0m\u001b[0mwarning\u001b[0m\u001b[0;34m(\u001b[0m\u001b[0;34m\"Invalid Message:\"\u001b[0m\u001b[0;34m,\u001b[0m \u001b[0mexc_info\u001b[0m\u001b[0;34m=\u001b[0m\u001b[0;32mTrue\u001b[0m\u001b[0;34m)\u001b[0m\u001b[0;34m\u001b[0m\u001b[0;34m\u001b[0m\u001b[0m\n",
            "\u001b[0;31mKeyboardInterrupt\u001b[0m: Interrupted by user"
          ]
        }
      ]
    }
  ]
}